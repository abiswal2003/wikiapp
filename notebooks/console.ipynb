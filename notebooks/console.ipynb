{
 "cells": [
  {
   "cell_type": "markdown",
   "id": "392ce140-eb6b-4e57-af71-61fadc67f3e5",
   "metadata": {},
   "source": [
    "---\n",
    "Title: Console Module\n",
    "---"
   ]
  },
  {
   "cell_type": "code",
   "execution_count": 2,
   "id": "641ac326-71ec-4528-a089-321e6aea2448",
   "metadata": {},
   "outputs": [],
   "source": [
    "from wikiapp.console import main"
   ]
  },
  {
   "cell_type": "code",
   "execution_count": 3,
   "id": "4744fa6b-4b88-4075-bd63-6d9b16360bf9",
   "metadata": {},
   "outputs": [],
   "source": [
    "from nbdev import show_doc"
   ]
  },
  {
   "cell_type": "code",
   "execution_count": 4,
   "id": "44801555-485c-422a-8eda-4a2c3f635fc4",
   "metadata": {},
   "outputs": [
    {
     "data": {
      "text/markdown": [
       "---\n",
       "\n",
       "### <Command main>\n",
       "\n",
       ">      <Command main> (*args:Any, **kwargs:Any)\n",
       "\n",
       "*This is the console interface to 'random_page' function in wikipedia.py.\n",
       "\n",
       "it comes with cool colors*"
      ],
      "text/plain": [
       "---\n",
       "\n",
       "### <Command main>\n",
       "\n",
       ">      <Command main> (*args:Any, **kwargs:Any)\n",
       "\n",
       "*This is the console interface to 'random_page' function in wikipedia.py.\n",
       "\n",
       "it comes with cool colors*"
      ]
     },
     "execution_count": 4,
     "metadata": {},
     "output_type": "execute_result"
    }
   ],
   "source": [
    "show_doc(main)"
   ]
  }
 ],
 "metadata": {
  "kernelspec": {
   "display_name": "Python 3 (ipykernel)",
   "language": "python",
   "name": "python3"
  },
  "language_info": {
   "codemirror_mode": {
    "name": "ipython",
    "version": 3
   },
   "file_extension": ".py",
   "mimetype": "text/x-python",
   "name": "python",
   "nbconvert_exporter": "python",
   "pygments_lexer": "ipython3",
   "version": "3.12.3"
  }
 },
 "nbformat": 4,
 "nbformat_minor": 5
}
