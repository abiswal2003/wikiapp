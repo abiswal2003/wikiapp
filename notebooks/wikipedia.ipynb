{
 "cells": [
  {
   "cell_type": "markdown",
   "id": "ada6f2fc-9bec-42dd-b633-d6b93e1ac736",
   "metadata": {},
   "source": [
    "---\n",
    "Title: Wikipedia Module\n",
    "---"
   ]
  },
  {
   "cell_type": "code",
   "execution_count": 11,
   "id": "4089e067-18cc-4880-9639-1a9ca09ea782",
   "metadata": {},
   "outputs": [],
   "source": [
    "from wikiapp.wikipedia import  random_page, Page"
   ]
  },
  {
   "cell_type": "code",
   "execution_count": 12,
   "id": "fc6d3d28-6504-4ff9-a7e2-4f6818e858e2",
   "metadata": {},
   "outputs": [],
   "source": [
    "from nbdev import show_doc"
   ]
  },
  {
   "cell_type": "code",
   "execution_count": 13,
   "id": "907f30f3-8847-4187-aae1-7a7d62b685c4",
   "metadata": {},
   "outputs": [
    {
     "data": {
      "text/markdown": [
       "---\n",
       "\n",
       "### Page\n",
       "\n",
       ">      Page (title:str, extract:str)\n",
       "\n",
       "*Usage docs: https://docs.pydantic.dev/2.7/concepts/models/\n",
       "\n",
       "A base class for creating Pydantic models.\n",
       "\n",
       "Attributes:\n",
       "    __class_vars__: The names of classvars defined on the model.\n",
       "    __private_attributes__: Metadata about the private attributes of the model.\n",
       "    __signature__: The signature for instantiating the model.\n",
       "\n",
       "    __pydantic_complete__: Whether model building is completed, or if there are still undefined fields.\n",
       "    __pydantic_core_schema__: The pydantic-core schema used to build the SchemaValidator and SchemaSerializer.\n",
       "    __pydantic_custom_init__: Whether the model has a custom `__init__` function.\n",
       "    __pydantic_decorators__: Metadata containing the decorators defined on the model.\n",
       "        This replaces `Model.__validators__` and `Model.__root_validators__` from Pydantic V1.\n",
       "    __pydantic_generic_metadata__: Metadata for generic models; contains data used for a similar purpose to\n",
       "        __args__, __origin__, __parameters__ in typing-module generics. May eventually be replaced by these.\n",
       "    __pydantic_parent_namespace__: Parent namespace of the model, used for automatic rebuilding of models.\n",
       "    __pydantic_post_init__: The name of the post-init method for the model, if defined.\n",
       "    __pydantic_root_model__: Whether the model is a `RootModel`.\n",
       "    __pydantic_serializer__: The pydantic-core SchemaSerializer used to dump instances of the model.\n",
       "    __pydantic_validator__: The pydantic-core SchemaValidator used to validate instances of the model.\n",
       "\n",
       "    __pydantic_extra__: An instance attribute with the values of extra fields from validation when\n",
       "        `model_config['extra'] == 'allow'`.\n",
       "    __pydantic_fields_set__: An instance attribute with the names of fields explicitly set.\n",
       "    __pydantic_private__: Instance attribute with the values of private attributes set on the model instance.*"
      ],
      "text/plain": [
       "---\n",
       "\n",
       "### Page\n",
       "\n",
       ">      Page (title:str, extract:str)\n",
       "\n",
       "*Usage docs: https://docs.pydantic.dev/2.7/concepts/models/\n",
       "\n",
       "A base class for creating Pydantic models.\n",
       "\n",
       "Attributes:\n",
       "    __class_vars__: The names of classvars defined on the model.\n",
       "    __private_attributes__: Metadata about the private attributes of the model.\n",
       "    __signature__: The signature for instantiating the model.\n",
       "\n",
       "    __pydantic_complete__: Whether model building is completed, or if there are still undefined fields.\n",
       "    __pydantic_core_schema__: The pydantic-core schema used to build the SchemaValidator and SchemaSerializer.\n",
       "    __pydantic_custom_init__: Whether the model has a custom `__init__` function.\n",
       "    __pydantic_decorators__: Metadata containing the decorators defined on the model.\n",
       "        This replaces `Model.__validators__` and `Model.__root_validators__` from Pydantic V1.\n",
       "    __pydantic_generic_metadata__: Metadata for generic models; contains data used for a similar purpose to\n",
       "        __args__, __origin__, __parameters__ in typing-module generics. May eventually be replaced by these.\n",
       "    __pydantic_parent_namespace__: Parent namespace of the model, used for automatic rebuilding of models.\n",
       "    __pydantic_post_init__: The name of the post-init method for the model, if defined.\n",
       "    __pydantic_root_model__: Whether the model is a `RootModel`.\n",
       "    __pydantic_serializer__: The pydantic-core SchemaSerializer used to dump instances of the model.\n",
       "    __pydantic_validator__: The pydantic-core SchemaValidator used to validate instances of the model.\n",
       "\n",
       "    __pydantic_extra__: An instance attribute with the values of extra fields from validation when\n",
       "        `model_config['extra'] == 'allow'`.\n",
       "    __pydantic_fields_set__: An instance attribute with the names of fields explicitly set.\n",
       "    __pydantic_private__: Instance attribute with the values of private attributes set on the model instance.*"
      ]
     },
     "execution_count": 13,
     "metadata": {},
     "output_type": "execute_result"
    }
   ],
   "source": [
    "show_doc(Page)"
   ]
  },
  {
   "cell_type": "code",
   "execution_count": 15,
   "id": "d40aefc5-8e09-45c3-922f-465546bf13b4",
   "metadata": {},
   "outputs": [
    {
     "data": {
      "text/markdown": [
       "---\n",
       "\n",
       "### random_page\n",
       "\n",
       ">      random_page (language:str='en')\n",
       "\n",
       "*Get a random page from wikipedia*\n",
       "\n",
       "|    | **Type** | **Default** | **Details** |\n",
       "| -- | -------- | ----------- | ----------- |\n",
       "| language | str | en | The language you want to use, as a two character string |\n",
       "| **Returns** | **Page** |  | **Return a page object** |"
      ],
      "text/plain": [
       "---\n",
       "\n",
       "### random_page\n",
       "\n",
       ">      random_page (language:str='en')\n",
       "\n",
       "*Get a random page from wikipedia*\n",
       "\n",
       "|    | **Type** | **Default** | **Details** |\n",
       "| -- | -------- | ----------- | ----------- |\n",
       "| language | str | en | The language you want to use, as a two character string |\n",
       "| **Returns** | **Page** |  | **Return a page object** |"
      ]
     },
     "execution_count": 15,
     "metadata": {},
     "output_type": "execute_result"
    }
   ],
   "source": [
    "show_doc(random_page)"
   ]
  },
  {
   "cell_type": "markdown",
   "id": "c0388af5-b3b9-4c0b-92bd-a4dbd6c11246",
   "metadata": {},
   "source": [
    "## Examples"
   ]
  },
  {
   "cell_type": "code",
   "execution_count": 16,
   "id": "084385f2-9b7e-4f75-8931-6edbfb20429e",
   "metadata": {},
   "outputs": [
    {
     "name": "stdout",
     "output_type": "stream",
     "text": [
      "TITLE Gjermund Eggen\n",
      "EXTRACT Gjermund Eggen was a Norwegian cross-country skier who won three gold medals at the 1966 FIS Nordic World Ski Championships. The championships were held in Oslo in conjunction with the Holmenkollen ski festival, and so Eggen's medals also counted as Holmenkollen victories. He was awarded the Holmenkollen medal in 1968. He competed at the 1968 Winter Olympics in the 30 km event, but finished only 34th. Eggen died in Elverum at age 77.\n"
     ]
    }
   ],
   "source": [
    "page =random_page()\n",
    "print(\"TITLE\", page.title)\n",
    "print(\"EXTRACT\", page.extract)"
   ]
  },
  {
   "cell_type": "code",
   "execution_count": 17,
   "id": "30a19805-0c34-4f2b-a9fc-cb8c5450422d",
   "metadata": {},
   "outputs": [
    {
     "name": "stdout",
     "output_type": "stream",
     "text": [
      "TITLE Malaysian Army\n",
      "EXTRACT The Malaysian Army is the land component of the Malaysian Armed Forces. Steeped in British Army traditions, the Malaysian Army does not carry the title ‘royal’ as do the Royal Malaysian Navy and the Royal Malaysian Air Force. Instead, the title is bestowed on selected army corps and regiments who have been accorded the honour by the Yang di-Pertuan Agong, who is the Supreme Commander of the Malaysian Armed Forces.\n"
     ]
    }
   ],
   "source": [
    "page =random_page()\n",
    "print(\"TITLE\", page.title)\n",
    "print(\"EXTRACT\", page.extract)"
   ]
  },
  {
   "cell_type": "code",
   "execution_count": 20,
   "id": "49242757-eb67-44b6-b8bb-e00ef39f1b55",
   "metadata": {},
   "outputs": [
    {
     "name": "stdout",
     "output_type": "stream",
     "text": [
      "TITLE Gustav von Tschermak-Seysenegg\n",
      "EXTRACT Gustav Tschermak von Seysenegg est un minéralogiste autrichien.\n"
     ]
    }
   ],
   "source": [
    "page =random_page(language=\"fr\") #Change in language\n",
    "print(\"TITLE\", page.title)\n",
    "print(\"EXTRACT\", page.extract)"
   ]
  },
  {
   "cell_type": "code",
   "execution_count": null,
   "id": "e3493fd3-ad82-4305-8b3b-d828b0a33c4a",
   "metadata": {},
   "outputs": [],
   "source": []
  }
 ],
 "metadata": {
  "kernelspec": {
   "display_name": "Python 3 (ipykernel)",
   "language": "python",
   "name": "python3"
  },
  "language_info": {
   "codemirror_mode": {
    "name": "ipython",
    "version": 3
   },
   "file_extension": ".py",
   "mimetype": "text/x-python",
   "name": "python",
   "nbconvert_exporter": "python",
   "pygments_lexer": "ipython3",
   "version": "3.12.3"
  }
 },
 "nbformat": 4,
 "nbformat_minor": 5
}
